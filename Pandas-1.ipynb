{
 "cells": [
  {
   "cell_type": "markdown",
   "metadata": {},
   "source": [
    "Problem:\n",
    "how-to-count-distance-to-the-previous-zero\n",
    "For each value, count the difference back to the previous zero (or the start of the Series, whichever is closer)\n",
    "create a new column 'Y'\n",
    "Consider a DataFrame df where there is an integer column 'X'"
   ]
  },
  {
   "cell_type": "code",
   "execution_count": 2,
   "metadata": {},
   "outputs": [
    {
     "data": {
      "text/html": [
       "<div>\n",
       "<style scoped>\n",
       "    .dataframe tbody tr th:only-of-type {\n",
       "        vertical-align: middle;\n",
       "    }\n",
       "\n",
       "    .dataframe tbody tr th {\n",
       "        vertical-align: top;\n",
       "    }\n",
       "\n",
       "    .dataframe thead th {\n",
       "        text-align: right;\n",
       "    }\n",
       "</style>\n",
       "<table border=\"1\" class=\"dataframe\">\n",
       "  <thead>\n",
       "    <tr style=\"text-align: right;\">\n",
       "      <th></th>\n",
       "      <th>X</th>\n",
       "      <th>Y</th>\n",
       "    </tr>\n",
       "  </thead>\n",
       "  <tbody>\n",
       "    <tr>\n",
       "      <th>0</th>\n",
       "      <td>7</td>\n",
       "      <td>1</td>\n",
       "    </tr>\n",
       "    <tr>\n",
       "      <th>1</th>\n",
       "      <td>2</td>\n",
       "      <td>2</td>\n",
       "    </tr>\n",
       "    <tr>\n",
       "      <th>2</th>\n",
       "      <td>0</td>\n",
       "      <td>0</td>\n",
       "    </tr>\n",
       "    <tr>\n",
       "      <th>3</th>\n",
       "      <td>3</td>\n",
       "      <td>1</td>\n",
       "    </tr>\n",
       "    <tr>\n",
       "      <th>4</th>\n",
       "      <td>4</td>\n",
       "      <td>2</td>\n",
       "    </tr>\n",
       "    <tr>\n",
       "      <th>5</th>\n",
       "      <td>2</td>\n",
       "      <td>3</td>\n",
       "    </tr>\n",
       "    <tr>\n",
       "      <th>6</th>\n",
       "      <td>5</td>\n",
       "      <td>4</td>\n",
       "    </tr>\n",
       "    <tr>\n",
       "      <th>7</th>\n",
       "      <td>0</td>\n",
       "      <td>0</td>\n",
       "    </tr>\n",
       "    <tr>\n",
       "      <th>8</th>\n",
       "      <td>3</td>\n",
       "      <td>1</td>\n",
       "    </tr>\n",
       "    <tr>\n",
       "      <th>9</th>\n",
       "      <td>4</td>\n",
       "      <td>2</td>\n",
       "    </tr>\n",
       "  </tbody>\n",
       "</table>\n",
       "</div>"
      ],
      "text/plain": [
       "   X  Y\n",
       "0  7  1\n",
       "1  2  2\n",
       "2  0  0\n",
       "3  3  1\n",
       "4  4  2\n",
       "5  2  3\n",
       "6  5  4\n",
       "7  0  0\n",
       "8  3  1\n",
       "9  4  2"
      ]
     },
     "execution_count": 2,
     "metadata": {},
     "output_type": "execute_result"
    }
   ],
   "source": [
    "import pandas as pd\n",
    "import numpy as np\n",
    "df = pd.DataFrame({'X': [7, 2, 0, 3, 4, 2, 5, 0, 3, 4]})\n",
    "izero = np.r_[-1, (df['X'] == 0).nonzero()[0]]\n",
    "idx = np.arange(len(df))\n",
    "df['Y'] = idx - izero[np.searchsorted(izero - 1, idx) - 1]\n",
    "df"
   ]
  },
  {
   "cell_type": "markdown",
   "metadata": {},
   "source": [
    "Problem 2\n",
    "Create a DatetimeIndex that contains each business day of 2015 and use it to index a Series of random numbers."
   ]
  },
  {
   "cell_type": "code",
   "execution_count": 14,
   "metadata": {},
   "outputs": [
    {
     "data": {
      "text/plain": [
       "2015-01-01    0.245953\n",
       "2015-01-02    0.112746\n",
       "2015-01-05    0.123593\n",
       "2015-01-06    0.077034\n",
       "2015-01-07    0.407658\n",
       "2015-01-08    0.082305\n",
       "2015-01-09    0.501291\n",
       "2015-01-12    0.067239\n",
       "2015-01-13    0.767299\n",
       "2015-01-14    0.969813\n",
       "2015-01-15    0.117939\n",
       "2015-01-16    0.786356\n",
       "2015-01-19    0.110470\n",
       "2015-01-20    0.745291\n",
       "2015-01-21    0.512773\n",
       "2015-01-22    0.574195\n",
       "2015-01-23    0.870752\n",
       "2015-01-26    0.810885\n",
       "2015-01-27    0.683160\n",
       "2015-01-28    0.577340\n",
       "2015-01-29    0.328969\n",
       "2015-01-30    0.096453\n",
       "2015-02-02    0.994234\n",
       "2015-02-03    0.784300\n",
       "2015-02-04    0.660228\n",
       "2015-02-05    0.335688\n",
       "2015-02-06    0.769965\n",
       "2015-02-09    0.284546\n",
       "2015-02-10    0.083439\n",
       "2015-02-11    0.457625\n",
       "                ...   \n",
       "2015-11-20    0.457822\n",
       "2015-11-23    0.903463\n",
       "2015-11-24    0.131336\n",
       "2015-11-25    0.689708\n",
       "2015-11-26    0.121697\n",
       "2015-11-27    0.983339\n",
       "2015-11-30    0.669377\n",
       "2015-12-01    0.658912\n",
       "2015-12-02    0.825258\n",
       "2015-12-03    0.048855\n",
       "2015-12-04    0.471601\n",
       "2015-12-07    0.359822\n",
       "2015-12-08    0.251409\n",
       "2015-12-09    0.365058\n",
       "2015-12-10    0.762858\n",
       "2015-12-11    0.351052\n",
       "2015-12-14    0.855885\n",
       "2015-12-15    0.123035\n",
       "2015-12-16    0.279658\n",
       "2015-12-17    0.058592\n",
       "2015-12-18    0.478679\n",
       "2015-12-21    0.570463\n",
       "2015-12-22    0.130641\n",
       "2015-12-23    0.128611\n",
       "2015-12-24    0.128779\n",
       "2015-12-25    0.280972\n",
       "2015-12-28    0.387562\n",
       "2015-12-29    0.919566\n",
       "2015-12-30    0.913437\n",
       "2015-12-31    0.659373\n",
       "Freq: B, Length: 261, dtype: float64"
      ]
     },
     "execution_count": 14,
     "metadata": {},
     "output_type": "execute_result"
    }
   ],
   "source": [
    "dti = pd.date_range(start='2015-01-01', end='2015-12-31', freq='B')\n",
    "s = pd.Series(np.random.rand(len(dti)), index=dti)\n",
    "s"
   ]
  },
  {
   "cell_type": "markdown",
   "metadata": {},
   "source": [
    "Question 3\n",
    "Find the sum of the values in s for every Wednesday"
   ]
  },
  {
   "cell_type": "code",
   "execution_count": 11,
   "metadata": {},
   "outputs": [
    {
     "data": {
      "text/plain": [
       "22.820567801499053"
      ]
     },
     "execution_count": 11,
     "metadata": {},
     "output_type": "execute_result"
    }
   ],
   "source": [
    "s[s.index.weekday == 2].sum()"
   ]
  },
  {
   "cell_type": "markdown",
   "metadata": {},
   "source": [
    "Question 4\n",
    "Average For each calendar month"
   ]
  },
  {
   "cell_type": "code",
   "execution_count": 12,
   "metadata": {},
   "outputs": [
    {
     "data": {
      "text/plain": [
       "2015-01-31    0.502639\n",
       "2015-02-28    0.480520\n",
       "2015-03-31    0.459119\n",
       "2015-04-30    0.519449\n",
       "2015-05-31    0.486888\n",
       "2015-06-30    0.482675\n",
       "2015-07-31    0.441389\n",
       "2015-08-31    0.381754\n",
       "2015-09-30    0.447324\n",
       "2015-10-31    0.410293\n",
       "2015-11-30    0.548975\n",
       "2015-12-31    0.571908\n",
       "Freq: M, dtype: float64"
      ]
     },
     "execution_count": 12,
     "metadata": {},
     "output_type": "execute_result"
    }
   ],
   "source": [
    "s.resample('M').mean()"
   ]
  },
  {
   "cell_type": "markdown",
   "metadata": {},
   "source": [
    "question 5\n",
    "For each group of four consecutive calendar months in s, find the date on which the highest value occurred."
   ]
  },
  {
   "cell_type": "code",
   "execution_count": 13,
   "metadata": {},
   "outputs": [
    {
     "data": {
      "text/plain": [
       "2015-01-31   2015-01-27\n",
       "2015-05-31   2015-03-06\n",
       "2015-09-30   2015-09-25\n",
       "2016-01-31   2015-12-17\n",
       "dtype: datetime64[ns]"
      ]
     },
     "execution_count": 13,
     "metadata": {},
     "output_type": "execute_result"
    }
   ],
   "source": [
    "s.groupby(pd.Grouper(freq='4M')).idxmax()"
   ]
  },
  {
   "cell_type": "code",
   "execution_count": null,
   "metadata": {},
   "outputs": [],
   "source": []
  }
 ],
 "metadata": {
  "kernelspec": {
   "display_name": "Python 3",
   "language": "python",
   "name": "python3"
  },
  "language_info": {
   "codemirror_mode": {
    "name": "ipython",
    "version": 3
   },
   "file_extension": ".py",
   "mimetype": "text/x-python",
   "name": "python",
   "nbconvert_exporter": "python",
   "pygments_lexer": "ipython3",
   "version": "3.6.4"
  }
 },
 "nbformat": 4,
 "nbformat_minor": 2
}
